{
 "cells": [
  {
   "cell_type": "markdown",
   "id": "6b990ca4",
   "metadata": {},
   "source": [
    "# 🧠 Deep Learning Model Training: CNN & LSTM\n",
    "Train and evaluate neural models on PADS smartwatch data."
   ]
  },
  {
   "cell_type": "code",
   "execution_count": null,
   "id": "5a136e1e",
   "metadata": {},
   "outputs": [],
   "source": [
    "# 📦 Imports\n",
    "import numpy as np\n",
    "import matplotlib.pyplot as plt\n",
    "import tensorflow as tf\n",
    "from tensorflow.keras.models import Sequential\n",
    "from tensorflow.keras.layers import Conv1D, MaxPooling1D, Flatten, Dense, Dropout, LSTM, BatchNormalization\n",
    "from sklearn.model_selection import train_test_split\n",
    "from sklearn.metrics import classification_report, confusion_matrix\n",
    "import seaborn as sns"
   ]
  },
  {
   "cell_type": "code",
   "execution_count": null,
   "id": "5bea62d0",
   "metadata": {},
   "outputs": [],
   "source": [
    "# 📁 Load Data\n",
    "X = np.load('X_all.npy')\n",
    "y = np.load('y_task_all.npy')\n",
    "\n",
    "print('X shape:', X.shape)\n",
    "print('y shape:', y.shape)\n",
    "print('Classes:', np.unique(y))"
   ]
  },
  {
   "cell_type": "code",
   "execution_count": null,
   "id": "1497ec93",
   "metadata": {},
   "outputs": [],
   "source": [
    "# 🔁 Encode labels\n",
    "from sklearn.preprocessing import LabelEncoder\n",
    "le = LabelEncoder()\n",
    "y_enc = le.fit_transform(y)\n",
    "num_classes = len(np.unique(y_enc))\n",
    "print('Encoded classes:', le.classes_)"
   ]
  },
  {
   "cell_type": "code",
   "execution_count": null,
   "id": "524a3235",
   "metadata": {},
   "outputs": [],
   "source": [
    "# 📊 Train/Test Split\n",
    "X_train, X_test, y_train, y_test = train_test_split(X, y_enc, test_size=0.25, random_state=42)"
   ]
  },
  {
   "cell_type": "markdown",
   "id": "4ed2b86a",
   "metadata": {},
   "source": [
    "## 🔬 Model A: CNN"
   ]
  },
  {
   "cell_type": "code",
   "execution_count": null,
   "id": "9eaf8897",
   "metadata": {},
   "outputs": [],
   "source": [
    "cnn = Sequential([\n",
    "    Conv1D(64, 5, activation='relu', input_shape=(X.shape[1], X.shape[2])),\n",
    "    BatchNormalization(),\n",
    "    MaxPooling1D(2),\n",
    "    Dropout(0.3),\n",
    "    Flatten(),\n",
    "    Dense(100, activation='relu'),\n",
    "    Dropout(0.3),\n",
    "    Dense(num_classes, activation='softmax')\n",
    "])\n",
    "\n",
    "cnn.compile(optimizer='adam', loss='sparse_categorical_crossentropy', metrics=['accuracy'])\n",
    "cnn.summary()"
   ]
  },
  {
   "cell_type": "code",
   "execution_count": null,
   "id": "904563b4",
   "metadata": {},
   "outputs": [],
   "source": [
    "cnn.fit(X_train, y_train, epochs=10, batch_size=32, validation_split=0.2)"
   ]
  },
  {
   "cell_type": "code",
   "execution_count": null,
   "id": "f2bde2bf",
   "metadata": {},
   "outputs": [],
   "source": [
    "# 📈 Evaluate CNN\n",
    "y_pred_cnn = cnn.predict(X_test).argmax(axis=1)\n",
    "print(classification_report(y_test, y_pred_cnn, target_names=le.classes_))\n",
    "\n",
    "cm = confusion_matrix(y_test, y_pred_cnn)\n",
    "sns.heatmap(cm, annot=True, fmt='d', cmap='Blues', xticklabels=le.classes_, yticklabels=le.classes_)\n",
    "plt.title('CNN Confusion Matrix')\n",
    "plt.xlabel('Predicted')\n",
    "plt.ylabel('True')\n",
    "plt.tight_layout()\n",
    "plt.show()"
   ]
  },
  {
   "cell_type": "markdown",
   "id": "126e35e3",
   "metadata": {},
   "source": [
    "## 🔁 Model B: LSTM"
   ]
  },
  {
   "cell_type": "code",
   "execution_count": null,
   "id": "431350a3",
   "metadata": {},
   "outputs": [],
   "source": [
    "lstm = Sequential([\n",
    "    LSTM(64, return_sequences=False, input_shape=(X.shape[1], X.shape[2])),\n",
    "    Dropout(0.3),\n",
    "    Dense(100, activation='relu'),\n",
    "    Dense(num_classes, activation='softmax')\n",
    "])\n",
    "\n",
    "lstm.compile(optimizer='adam', loss='sparse_categorical_crossentropy', metrics=['accuracy'])\n",
    "lstm.summary()"
   ]
  },
  {
   "cell_type": "code",
   "execution_count": null,
   "id": "bee9287f",
   "metadata": {},
   "outputs": [],
   "source": [
    "lstm.fit(X_train, y_train, epochs=10, batch_size=32, validation_split=0.2)"
   ]
  },
  {
   "cell_type": "code",
   "execution_count": null,
   "id": "a3005fce",
   "metadata": {},
   "outputs": [],
   "source": [
    "# 📈 Evaluate LSTM\n",
    "y_pred_lstm = lstm.predict(X_test).argmax(axis=1)\n",
    "print(classification_report(y_test, y_pred_lstm, target_names=le.classes_))\n",
    "\n",
    "cm = confusion_matrix(y_test, y_pred_lstm)\n",
    "sns.heatmap(cm, annot=True, fmt='d', cmap='Greens', xticklabels=le.classes_, yticklabels=le.classes_)\n",
    "plt.title('LSTM Confusion Matrix')\n",
    "plt.xlabel('Predicted')\n",
    "plt.ylabel('True')\n",
    "plt.tight_layout()\n",
    "plt.show()"
   ]
  }
 ],
 "metadata": {},
 "nbformat": 4,
 "nbformat_minor": 5
}
