{
 "cells": [
  {
   "cell_type": "markdown",
   "id": "49c58918",
   "metadata": {},
   "source": [
    "# 📊 PADS Dataset Preprocessing Notebook\n",
    "\n",
    "This notebook loads and visualizes smartwatch sensor data for personalized Parkinson’s ML models."
   ]
  },
  {
   "cell_type": "code",
   "execution_count": null,
   "id": "533de923",
   "metadata": {},
   "outputs": [],
   "source": [
    "# Imports\n",
    "import numpy as np\n",
    "import pandas as pd\n",
    "import matplotlib.pyplot as plt\n",
    "import json\n",
    "from tqdm import tqdm\n",
    "import os"
   ]
  },
  {
   "cell_type": "code",
   "execution_count": null,
   "id": "72ea70f0",
   "metadata": {},
   "outputs": [],
   "source": [
    "# Load binary data\n",
    "bin_path = '001_ml.bin'\n",
    "data = np.fromfile(bin_path, dtype=np.float32)\n",
    "data = data.reshape(-1, 6)  # [time_steps, 6 channels: accel + gyro]\n",
    "data.shape"
   ]
  },
  {
   "cell_type": "code",
   "execution_count": null,
   "id": "6edc1ef1",
   "metadata": {},
   "outputs": [],
   "source": [
    "# Plot raw signals\n",
    "plt.figure(figsize=(15, 6))\n",
    "for i in range(6):\n",
    "    plt.plot(data[:1000, i], label=f'Channel {i+1}')\n",
    "plt.title('First 1000 Samples from 001_ml.bin')\n",
    "plt.legend()\n",
    "plt.xlabel('Time Step')\n",
    "plt.ylabel('Sensor Value')\n",
    "plt.grid(True)\n",
    "plt.show()"
   ]
  },
  {
   "cell_type": "code",
   "execution_count": null,
   "id": "ef0d7c64",
   "metadata": {},
   "outputs": [],
   "source": [
    "# Load metadata\n",
    "with open('observation_001.json') as f:\n",
    "    obs = json.load(f)\n",
    "\n",
    "with open('patient_001.json') as f:\n",
    "    patient = json.load(f)\n",
    "\n",
    "print('Participant ID:', patient['id'])\n",
    "print('Condition:', patient['condition'])\n",
    "print('Age:', patient['age'])\n",
    "print('Gender:', patient['gender'])"
   ]
  },
  {
   "cell_type": "code",
   "execution_count": null,
   "id": "f9d4122e",
   "metadata": {},
   "outputs": [],
   "source": [
    "# Windowing function (10.24s → 1024 samples @ 100Hz)\n",
    "def window_data(data, size=256, stride=128):\n",
    "    windows = []\n",
    "    for start in range(0, data.shape[0] - size + 1, stride):\n",
    "        windows.append(data[start:start + size])\n",
    "    return np.stack(windows)\n",
    "\n",
    "windowed = window_data(data)\n",
    "print('Windowed shape:', windowed.shape)"
   ]
  },
  {
   "cell_type": "code",
   "execution_count": null,
   "id": "33e7f15b",
   "metadata": {},
   "outputs": [],
   "source": [
    "# Visualize one window sample\n",
    "plt.figure(figsize=(12, 6))\n",
    "for i in range(6):\n",
    "    plt.plot(windowed[0][:, i], label=f'Channel {i+1}')\n",
    "plt.title('First Windowed Segment')\n",
    "plt.legend()\n",
    "plt.show()"
   ]
  }
 ],
 "metadata": {},
 "nbformat": 4,
 "nbformat_minor": 5
}
