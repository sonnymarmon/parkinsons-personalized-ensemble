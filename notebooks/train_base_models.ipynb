{
 "cells": [
  {
   "cell_type": "markdown",
   "id": "d7400a77",
   "metadata": {},
   "source": [
    "# 🧠 Baseline Model Training: PADS Dataset\n",
    "This notebook loads preprocessed sensor data and trains baseline ML models for task classification."
   ]
  },
  {
   "cell_type": "code",
   "execution_count": null,
   "id": "ffa07027",
   "metadata": {},
   "outputs": [],
   "source": [
    "# Imports\n",
    "import numpy as np\n",
    "import pandas as pd\n",
    "import matplotlib.pyplot as plt\n",
    "from sklearn.model_selection import train_test_split\n",
    "from sklearn.metrics import classification_report, confusion_matrix\n",
    "from xgboost import XGBClassifier\n",
    "import seaborn as sns\n",
    "import os\n",
    "import json"
   ]
  },
  {
   "cell_type": "code",
   "execution_count": null,
   "id": "156701e4",
   "metadata": {},
   "outputs": [],
   "source": [
    "# Load preprocessed data (e.g., '001_ml.bin')\n",
    "path = '001_ml.bin'\n",
    "data = np.fromfile(path, dtype=np.float32).reshape(-1, 6)\n",
    "data.shape"
   ]
  },
  {
   "cell_type": "code",
   "execution_count": null,
   "id": "650abbd1",
   "metadata": {},
   "outputs": [],
   "source": [
    "# Create windowed segments for modeling\n",
    "def window_data(data, size=256, stride=128):\n",
    "    windows = []\n",
    "    for start in range(0, data.shape[0] - size + 1, stride):\n",
    "        windows.append(data[start:start + size])\n",
    "    return np.stack(windows)\n",
    "\n",
    "X = window_data(data)\n",
    "X.shape"
   ]
  },
  {
   "cell_type": "code",
   "execution_count": null,
   "id": "7b48c582",
   "metadata": {},
   "outputs": [],
   "source": [
    "# Load label info from JSON file\n",
    "with open('observation_001.json') as f:\n",
    "    obs = json.load(f)\n",
    "\n",
    "# Create dummy task labels for demonstration\n",
    "num_windows = X.shape[0]\n",
    "tasks = ['Relaxed', 'RelaxedTask', 'StretchHold', 'LiftHold', 'HoldWeight',\n",
    "         'DrinkGlas', 'CrossArms', 'TouchNose', 'Entrainment']\n",
    "y = np.random.choice(tasks, num_windows)  # Fake labels for testing"
   ]
  },
  {
   "cell_type": "code",
   "execution_count": null,
   "id": "54195616",
   "metadata": {},
   "outputs": [],
   "source": [
    "# Flatten for XGBoost (time * features)\n",
    "X_flat = X.reshape((X.shape[0], -1))\n",
    "print('X shape for XGBoost:', X_flat.shape)"
   ]
  },
  {
   "cell_type": "code",
   "execution_count": null,
   "id": "209a7631",
   "metadata": {},
   "outputs": [],
   "source": [
    "# Train/test split\n",
    "X_train, X_test, y_train, y_test = train_test_split(X_flat, y, test_size=0.2, random_state=42)"
   ]
  },
  {
   "cell_type": "code",
   "execution_count": null,
   "id": "0bdacdd1",
   "metadata": {},
   "outputs": [],
   "source": [
    "# Train baseline XGBoost model\n",
    "model = XGBClassifier(use_label_encoder=False, eval_metric='mlogloss')\n",
    "model.fit(X_train, y_train)"
   ]
  },
  {
   "cell_type": "code",
   "execution_count": null,
   "id": "ac9e8a1b",
   "metadata": {},
   "outputs": [],
   "source": [
    "# Evaluate\n",
    "preds = model.predict(X_test)\n",
    "print(classification_report(y_test, preds))\n",
    "\n",
    "cm = confusion_matrix(y_test, preds, labels=tasks)\n",
    "sns.heatmap(cm, annot=True, fmt='d', xticklabels=tasks, yticklabels=tasks, cmap='Blues')\n",
    "plt.title('Confusion Matrix')\n",
    "plt.xlabel('Predicted')\n",
    "plt.ylabel('True')\n",
    "plt.show()"
   ]
  }
 ],
 "metadata": {},
 "nbformat": 4,
 "nbformat_minor": 5
}
