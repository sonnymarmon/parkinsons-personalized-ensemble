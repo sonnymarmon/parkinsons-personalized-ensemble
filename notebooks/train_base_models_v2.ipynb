{
 "cells": [
  {
   "cell_type": "markdown",
   "id": "b038e501",
   "metadata": {},
   "source": [
    "# 🧠 Multi-Patient Baseline Model Training (PADS)\n",
    "Train an XGBoost classifier on real smartwatch sensor data from multiple Parkinson’s and healthy patients."
   ]
  },
  {
   "cell_type": "code",
   "execution_count": null,
   "id": "4a5377ff",
   "metadata": {},
   "outputs": [],
   "source": [
    "# 📦 Imports\n",
    "import numpy as np\n",
    "import pandas as pd\n",
    "import matplotlib.pyplot as plt\n",
    "from sklearn.model_selection import train_test_split\n",
    "from sklearn.metrics import classification_report, confusion_matrix\n",
    "from xgboost import XGBClassifier\n",
    "import seaborn as sns\n",
    "import warnings\n",
    "warnings.filterwarnings('ignore')"
   ]
  },
  {
   "cell_type": "code",
   "execution_count": null,
   "id": "c8b01f4f",
   "metadata": {},
   "outputs": [],
   "source": [
    "# 📁 Load Data\n",
    "X_all = np.load('X_all.npy')\n",
    "y_task_all = np.load('y_task_all.npy')\n",
    "y_cond_all = np.load('y_cond_all.npy')\n",
    "\n",
    "print('X shape:', X_all.shape)\n",
    "print('Unique Task Labels:', np.unique(y_task_all))\n",
    "print('Unique Condition Labels:', np.unique(y_cond_all))"
   ]
  },
  {
   "cell_type": "code",
   "execution_count": null,
   "id": "16039775",
   "metadata": {},
   "outputs": [],
   "source": [
    "# 🧹 Preprocessing: Flatten Time-Series for XGBoost\n",
    "X_flat = X_all.reshape((X_all.shape[0], -1))\n",
    "print('Flattened shape:', X_flat.shape)"
   ]
  },
  {
   "cell_type": "code",
   "execution_count": null,
   "id": "8a3b0605",
   "metadata": {},
   "outputs": [],
   "source": [
    "# 📊 Train/Test Split\n",
    "X_train, X_test, y_train, y_test = train_test_split(X_flat, y_task_all, test_size=0.25, random_state=42)\n",
    "print(f'Train samples: {len(y_train)}, Test samples: {len(y_test)}')"
   ]
  },
  {
   "cell_type": "code",
   "execution_count": null,
   "id": "44893250",
   "metadata": {},
   "outputs": [],
   "source": [
    "# ⚙️ Train XGBoost Classifier\n",
    "model = XGBClassifier(use_label_encoder=False, eval_metric='mlogloss')\n",
    "model.fit(X_train, y_train)"
   ]
  },
  {
   "cell_type": "code",
   "execution_count": null,
   "id": "024996ef",
   "metadata": {},
   "outputs": [],
   "source": [
    "# 📈 Evaluate Performance\n",
    "preds = model.predict(X_test)\n",
    "print(classification_report(y_test, preds))"
   ]
  },
  {
   "cell_type": "code",
   "execution_count": null,
   "id": "322a7ae1",
   "metadata": {},
   "outputs": [],
   "source": [
    "# 📉 Confusion Matrix\n",
    "cm = confusion_matrix(y_test, preds, labels=np.unique(y_task_all))\n",
    "plt.figure(figsize=(10, 6))\n",
    "sns.heatmap(cm, annot=True, fmt='d', cmap='Blues', xticklabels=np.unique(y_task_all), yticklabels=np.unique(y_task_all))\n",
    "plt.title('Confusion Matrix – Task Prediction')\n",
    "plt.xlabel('Predicted')\n",
    "plt.ylabel('True')\n",
    "plt.tight_layout()\n",
    "plt.show()"
   ]
  }
 ],
 "metadata": {},
 "nbformat": 4,
 "nbformat_minor": 5
}
